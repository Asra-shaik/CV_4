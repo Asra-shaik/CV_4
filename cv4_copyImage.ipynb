{
 "cells": [
  {
   "cell_type": "code",
   "execution_count": 1,
   "metadata": {},
   "outputs": [
    {
     "name": "stdout",
     "output_type": "stream",
     "text": [
      "[218 182 122]\n",
      "[255 255 255]\n"
     ]
    }
   ],
   "source": [
    "import cv2\n",
    "import numpy as np\n",
    "\n",
    "img = cv2.imread('C://Users//Public//Pictures//Sample Pictures//Penguins.jpg',cv2.IMREAD_COLOR)\n",
    "px = img[55,55] #Get color at that postion\n",
    "print(px)\n",
    "img[55,55] = [255,255,255] #change color that postion\n",
    "px=img[55,55]\n",
    "print(px)"
   ]
  },
  {
   "cell_type": "code",
   "execution_count": 2,
   "metadata": {},
   "outputs": [
    {
     "name": "stdout",
     "output_type": "stream",
     "text": [
      "[[[233 188 150]\n",
      "  [229 188 143]\n",
      "  [229 189 141]\n",
      "  ..., \n",
      "  [231 187 140]\n",
      "  [232 190 143]\n",
      "  [232 190 145]]\n",
      "\n",
      " [[226 188 146]\n",
      "  [226 188 140]\n",
      "  [227 185 138]\n",
      "  ..., \n",
      "  [230 188 141]\n",
      "  [229 188 139]\n",
      "  [230 190 137]]\n",
      "\n",
      " [[228 186 143]\n",
      "  [229 189 141]\n",
      "  [225 187 139]\n",
      "  ..., \n",
      "  [228 186 141]\n",
      "  [226 186 137]\n",
      "  [227 190 134]]\n",
      "\n",
      " ..., \n",
      " [[233 178 147]\n",
      "  [232 187 150]\n",
      "  [232 187 150]\n",
      "  ..., \n",
      "  [235 184 144]\n",
      "  [233 184 146]\n",
      "  [231 185 144]]\n",
      "\n",
      " [[234 181 144]\n",
      "  [232 187 150]\n",
      "  [233 188 150]\n",
      "  ..., \n",
      "  [235 190 147]\n",
      "  [235 189 148]\n",
      "  [232 186 145]]\n",
      "\n",
      " [[232 183 145]\n",
      "  [233 185 151]\n",
      "  [231 186 149]\n",
      "  ..., \n",
      "  [235 188 144]\n",
      "  [236 189 145]\n",
      "  [232 184 142]]]\n"
     ]
    }
   ],
   "source": [
    "px = img[100:150,100:150]\n",
    "print(px)\n",
    "img[100:150,100:150] = [255,255,255]\n"
   ]
  },
  {
   "cell_type": "code",
   "execution_count": 3,
   "metadata": {},
   "outputs": [
    {
     "name": "stdout",
     "output_type": "stream",
     "text": [
      "(768, 1024, 3)\n",
      "2359296\n",
      "uint8\n"
     ]
    }
   ],
   "source": [
    "print(img.shape)\n",
    "print(img.size)\n",
    "print(img.dtype)"
   ]
  },
  {
   "cell_type": "code",
   "execution_count": 4,
   "metadata": {
    "collapsed": true
   },
   "outputs": [],
   "source": [
    "watch_face = img[274:548,107:294]\n",
    "img[0:274,0:187] = watch_face\n",
    "\n",
    "cv2.imshow('image',img)\n",
    "cv2.waitKey(0)\n",
    "cv2.destroyAllWindows()"
   ]
  },
  {
   "cell_type": "code",
   "execution_count": null,
   "metadata": {
    "collapsed": true
   },
   "outputs": [],
   "source": []
  }
 ],
 "metadata": {
  "kernelspec": {
   "display_name": "Python 3",
   "language": "python",
   "name": "python3"
  },
  "language_info": {
   "codemirror_mode": {
    "name": "ipython",
    "version": 3
   },
   "file_extension": ".py",
   "mimetype": "text/x-python",
   "name": "python",
   "nbconvert_exporter": "python",
   "pygments_lexer": "ipython3",
   "version": "3.6.1"
  }
 },
 "nbformat": 4,
 "nbformat_minor": 2
}
